{
 "cells": [
  {
   "cell_type": "code",
   "execution_count": 3,
   "id": "a0abe68e",
   "metadata": {},
   "outputs": [],
   "source": [
    "import fitz  # PyMuPDF"
   ]
  },
  {
   "cell_type": "code",
   "execution_count": 6,
   "id": "ab485103",
   "metadata": {},
   "outputs": [],
   "source": [
    "def highlight(pdf_path, output_path, field_names):\n",
    "    doc = fitz.open(pdf_path)\n",
    "\n",
    "    for page_num, page in enumerate(doc):\n",
    "        blocks = page.get_text(\"blocks\")  # Get all text blocks\n",
    "\n",
    "        for block in blocks:\n",
    "            text = block[4]  # The actual text content\n",
    "            for field in field_names:\n",
    "                if field in text:\n",
    "                    # Simple strategy: split at field and get the value next to it\n",
    "                    parts = text.split(field)\n",
    "                    for i in range(1, len(parts)):\n",
    "                        value_candidate = parts[i].strip()\n",
    "                        value = value_candidate.split(\"\\n\")[0] if value_candidate else \"\"\n",
    "\n",
    "                        # Highlight field name\n",
    "                        field_matches = page.search_for(field)\n",
    "                        for match in field_matches:\n",
    "                            page.add_highlight_annot(match)\n",
    "\n",
    "                        # Highlight value\n",
    "                        if value:\n",
    "                            value_matches = page.search_for(value)\n",
    "                            for match in value_matches:\n",
    "                                page.add_highlight_annot(match)\n",
    "\n",
    "    doc.save(output_path, garbage=4, deflate=True)\n",
    "    doc.close()\n",
    "    print(f\"Saved to: {output_path}\")"
   ]
  },
  {
   "cell_type": "code",
   "execution_count": 7,
   "id": "89a30bdc",
   "metadata": {},
   "outputs": [
    {
     "name": "stdout",
     "output_type": "stream",
     "text": [
      "Saved to: payslip_highlighted.pdf\n"
     ]
    }
   ],
   "source": [
    "field_names = [\n",
    "    \"Cost Center\",\n",
    "    \"Designation\",\n",
    "    \"Total Deductions\"\n",
    "]\n",
    "\n",
    "highlight(\"payslip.pdf\", \"payslip_highlighted.pdf\", field_names)"
   ]
  },
  {
   "cell_type": "code",
   "execution_count": null,
   "id": "fd867b47",
   "metadata": {},
   "outputs": [],
   "source": []
  }
 ],
 "metadata": {
  "kernelspec": {
   "display_name": "venv",
   "language": "python",
   "name": "python3"
  },
  "language_info": {
   "codemirror_mode": {
    "name": "ipython",
    "version": 3
   },
   "file_extension": ".py",
   "mimetype": "text/x-python",
   "name": "python",
   "nbconvert_exporter": "python",
   "pygments_lexer": "ipython3",
   "version": "3.11.9"
  }
 },
 "nbformat": 4,
 "nbformat_minor": 5
}
